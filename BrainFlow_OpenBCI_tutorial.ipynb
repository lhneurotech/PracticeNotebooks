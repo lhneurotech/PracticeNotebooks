{
 "cells": [
  {
   "cell_type": "markdown",
   "id": "d34533aa",
   "metadata": {},
   "source": [
    "\n",
    "# Working with OpenBCI and BrainFlow\n",
    "\n",
    "This notebook provides an overview of how to use the BrainFlow API to interact with OpenBCI headsets for real-time data acquisition. It's designed to help users understand the basic steps needed to get started with data collection and real-time data access.\n"
   ]
  },
  {
   "cell_type": "markdown",
   "id": "56ca67df",
   "metadata": {},
   "source": [
    "\n",
    "## Introduction to BrainFlow\n",
    "\n",
    "BrainFlow is a powerful library designed to simplify the process of data acquisition from various biosignal monitoring devices, including OpenBCI headsets. It provides a unified API to work with a wide range of biosensors, enabling users to focus on data analysis rather than the intricacies of device communication.\n"
   ]
  },
  {
   "cell_type": "markdown",
   "id": "b39cb327",
   "metadata": {},
   "source": [
    "\n",
    "## Setting Up Your Environment\n",
    "\n",
    "Before starting, ensure you have Python and BrainFlow installed in your environment. You can install BrainFlow using pip:\n",
    "```\n",
    "pip install brainflow\n",
    "```\n",
    "Additionally, make sure your OpenBCI headset is properly set up and connected to your computer. The code below will not run if the board is not setup to your computer. This tutorial is provided to ensure that you can access data when needed.\n"
   ]
  },
  {
   "cell_type": "markdown",
   "id": "ca8af103",
   "metadata": {},
   "source": [
    "\n",
    "## Initializing the Board\n",
    "\n",
    "To communicate with your OpenBCI headset, you first need to initialize a `BoardShim` object with the appropriate parameters. This involves specifying the board ID and any connection parameters, such as the serial port for Cyton boards. \n"
   ]
  },
  {
   "cell_type": "code",
   "execution_count": null,
   "id": "6a3d3884",
   "metadata": {},
   "outputs": [],
   "source": [
    "\n",
    "from brainflow.board_shim import BoardShim, BrainFlowInputParams, BoardIds\n",
    "\n",
    "params = BrainFlowInputParams()\n",
    "params.serial_port = 'COM3'  # Update this with your actual serial port (wil be different on Mac/Linux)\n",
    "board_id = BoardIds.CYTON_BOARD.value # we will be using the Cyton board for our projects\n",
    "\n",
    "board = BoardShim(board_id, params)\n"
   ]
  },
  {
   "cell_type": "markdown",
   "id": "b9737685",
   "metadata": {},
   "source": [
    "Note: Mac and Linux systems will have different serial device naming conventions"
   ]
  },
  {
   "cell_type": "markdown",
   "id": "bfbcc011",
   "metadata": {},
   "source": [
    "\n",
    "## Starting Data Stream\n",
    "\n",
    "With the board initialized, you can start the data stream. This begins the real-time data acquisition from the OpenBCI headset.\n"
   ]
  },
  {
   "cell_type": "code",
   "execution_count": null,
   "id": "e5c06b6c",
   "metadata": {},
   "outputs": [],
   "source": [
    "\n",
    "board.prepare_session()\n",
    "board.start_stream()\n"
   ]
  },
  {
   "cell_type": "code",
   "execution_count": null,
   "id": "1717d9ff",
   "metadata": {},
   "outputs": [],
   "source": [
    "board.stop_stream() # this is done so that the next step doesn't have to access all the data\n",
    "board.release_session()"
   ]
  },
  {
   "cell_type": "markdown",
   "id": "1dffcbd7",
   "metadata": {},
   "source": [
    "\n",
    "## Accessing Real-Time Data\n",
    "\n",
    "Once the data stream is active, you can access the real-time data using `get_board_data()`. This function retrieves all data collected since the last call, allowing you to process or analyze it in real time.\n"
   ]
  },
  {
   "cell_type": "code",
   "execution_count": null,
   "id": "135a93ee",
   "metadata": {},
   "outputs": [],
   "source": [
    "\n",
    "import time\n",
    "\n",
    "board.prepare_session()\n",
    "board.start_stream()\n",
    "time.sleep(10)  # collect data for 10 seconds\n",
    "data = board.get_board_data()\n",
    "# Now `data` contains the last 10 seconds of data\n",
    "board.stop_stream()\n",
    "board.release_session()\n"
   ]
  },
  {
   "cell_type": "markdown",
   "id": "8650b3c9",
   "metadata": {},
   "source": [
    "\n",
    "## Stopping the Data Stream\n",
    "\n",
    "After collecting the necessary data, it's important to properly stop the data stream and release the session.\n"
   ]
  },
  {
   "cell_type": "code",
   "execution_count": null,
   "id": "8561bd05",
   "metadata": {},
   "outputs": [],
   "source": [
    "\n",
    "board.stop_stream()\n",
    "board.release_session()\n"
   ]
  },
  {
   "cell_type": "markdown",
   "id": "5cd4bd4a",
   "metadata": {},
   "source": [
    "\n",
    "## Conclusion\n",
    "\n",
    "This notebook provided a basic introduction to using BrainFlow with OpenBCI headsets for real-time data acquisition. By following these steps, you can start collecting and analyzing EEG data for our projects. We can use the brainflow library to create pipelines for real time analytics of neural signals. For more detailed information, refer to the [BrainFlow documentation](https://brainflow.readthedocs.io/en/stable/).\n"
   ]
  }
 ],
 "metadata": {
  "language_info": {
   "name": "python"
  }
 },
 "nbformat": 4,
 "nbformat_minor": 5
}
